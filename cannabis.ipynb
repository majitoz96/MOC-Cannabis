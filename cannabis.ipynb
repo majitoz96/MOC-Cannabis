{
 "cells": [
  {
   "cell_type": "code",
   "execution_count": 2,
   "metadata": {},
   "outputs": [],
   "source": [
    "import re\n",
    "import csv\n",
    "import itertools"
   ]
  },
  {
   "cell_type": "code",
   "execution_count": 3,
   "metadata": {},
   "outputs": [],
   "source": [
    "with open('./sample_data/pubmed-canabissat-set.txt', encoding=\"utf8\") as f:\n",
    "    my_text = f.read()"
   ]
  },
  {
   "cell_type": "code",
   "execution_count": 4,
   "metadata": {},
   "outputs": [],
   "source": [
    "#my_text"
   ]
  },
  {
   "cell_type": "code",
   "execution_count": 6,
   "metadata": {},
   "outputs": [
    {
     "data": {
      "text/plain": [
       "2304340"
      ]
     },
     "execution_count": 6,
     "metadata": {},
     "output_type": "execute_result"
    }
   ],
   "source": [
    "len(my_text)"
   ]
  },
  {
   "cell_type": "code",
   "execution_count": 7,
   "metadata": {},
   "outputs": [],
   "source": [
    "my_text = re.sub(r'\\n\\s{6}', ' ', my_text)"
   ]
  },
  {
   "cell_type": "code",
   "execution_count": 8,
   "metadata": {},
   "outputs": [
    {
     "name": "stdout",
     "output_type": "stream",
     "text": [
      "PMID- 31084880\n",
      "OWN - NLM\n",
      "STAT- MEDLINE\n",
      "DCOM- 20190606\n",
      "LR  - 20200930\n",
      "IS  - 1873-2259 (Electronic)\n",
      "IS  - 0168-9452 (Linking)\n",
      "VI  - 284\n",
      "DP  - 2019 Jul\n",
      "TI  - Terpenes in Cannabis sativa - From plant genome to humans.\n",
      "PG  - 67-72\n",
      "LID - S0168-9452(19)30119-0 [pii]\n",
      "LID - 10.1016/j.plantsci.2019.03.022 [doi]\n",
      "AB  - Cannabis sativa (cannabis) produces a resin that is valued for its psychoactive and  medicinal properties. Despite being the foundation of a multi-billion dollar global  industry, scientific knowledge and research on cannabis is lagging behind compared  to other high-value crops. This is largely due to legal restrictions that have  prevented many researchers from studying cannabis, its products, and their effects  in humans. Cannabis resin contains hundreds of different terpene and cannabinoid  metabolites. Many of these metabolites have not been conclusively identified. Our  understanding of the genomic and biosynthetic systems of these metabolites in  cannabis, and the factors that affect their variability, is rudimentary. As a  consequence, there is concern about lack of consistency with regard to the terpene  and cannabinoid composition of different cannabis 'strains'. Likewise, claims of  some of the medicinal properties attributed to cannabis metabolites would benefit  from thorough scientific validation.\n",
      "CI  - Copyright © 2019 The Authors. Published by Elsevier B.V. All rights reserved.\n",
      "FAU - Booth, Judith K\n",
      "AU  - Booth JK\n",
      "AD  - Michael Smith Laboratories, University of British Columbia, 2185 East Mall,  Vancouver, B.C., V6T 1Z4, Canada.\n",
      "FAU - Bohlmann, Jörg\n",
      "AU  - Bohlmann J\n",
      "AD  - Michael Smith Laboratories, University of British Columbia, 2185 East Mall,  Vancouver, B.C., V6T 1Z4, Canada. Electronic address: bohlmann@msl.ubc.ca.\n",
      "LA  - eng\n",
      "PT  - Journal Article\n",
      "PT  - Review\n",
      "DEP - 20190404\n",
      "PL  - Ireland\n",
      "TA  - Plant Sci\n",
      "JT  - Plant science : an international journal of experimental plant biology\n",
      "JID - 9882015\n",
      "RN  - 0 (Cannabinoids)\n",
      "RN  - 0 (Terpenes)\n",
      "SB  - I\n"
     ]
    }
   ],
   "source": [
    "print(my_text[:2000])"
   ]
  },
  {
   "cell_type": "code",
   "execution_count": null,
   "metadata": {},
   "outputs": [],
   "source": []
  }
 ],
 "metadata": {
  "interpreter": {
   "hash": "0c5d88e1958f3cc86b8c686fb0242c7970d127a24ef37cb6e78e93274baaea2c"
  },
  "kernelspec": {
   "display_name": "Python 3.8.8 ('base')",
   "language": "python",
   "name": "python3"
  },
  "language_info": {
   "codemirror_mode": {
    "name": "ipython",
    "version": 3
   },
   "file_extension": ".py",
   "mimetype": "text/x-python",
   "name": "python",
   "nbconvert_exporter": "python",
   "pygments_lexer": "ipython3",
   "version": "3.8.8"
  },
  "orig_nbformat": 4
 },
 "nbformat": 4,
 "nbformat_minor": 2
}
